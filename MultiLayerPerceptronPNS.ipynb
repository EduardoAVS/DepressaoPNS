{
 "cells": [
  {
   "cell_type": "code",
   "execution_count": 83,
   "metadata": {},
   "outputs": [],
   "source": [
    "from sklearn.neural_network import MLPClassifier\n",
    "from sklearn.model_selection import RandomizedSearchCV\n",
    "from sklearn.metrics import classification_report, confusion_matrix\n",
    "from sklearn.model_selection import train_test_split\n",
    "from scipy.stats import uniform, randint\n",
    "import numpy as np"
   ]
  },
  {
   "cell_type": "code",
   "execution_count": 69,
   "metadata": {},
   "outputs": [],
   "source": [
    "import pickle\n",
    "with open('dados/depresso.pkl', 'rb') as f:\n",
    "  X_train, X_test, y_train, y_test = pickle.load(f)"
   ]
  },
  {
   "cell_type": "code",
   "execution_count": 70,
   "metadata": {},
   "outputs": [],
   "source": [
    "param_dist = {\n",
    "    'hidden_layer_sizes': [(randint.rvs(50, 100),)],  # Tamanho da camada oculta\n",
    "    'activation': ['relu', 'tanh', 'logistic'],       # Função de ativação\n",
    "    'solver': ['adam', 'sgd'],                        # Otimizador\n",
    "    'alpha': uniform(0.001, 0.01),                  # Regularização L2\n",
    "    'learning_rate': ['constant', 'invscaling', 'adaptive'],  # Taxa de aprendizado\n",
    "    'learning_rate_init': uniform(0.0001, 0.1),      # Taxa de aprendizado inicial\n",
    "    'max_iter': randint(100, 220)                    # Número máximo de iterações\n",
    "}"
   ]
  },
  {
   "cell_type": "code",
   "execution_count": 71,
   "metadata": {},
   "outputs": [],
   "source": [
    "mlp = MLPClassifier(random_state=42)\n",
    "\n",
    "# Configurar RandomizedSearchCV\n",
    "modelo = RandomizedSearchCV(\n",
    "    estimator=mlp,\n",
    "    param_distributions=param_dist,\n",
    "    n_iter=50,                 # Número de combinações a testar\n",
    "    cv=3,                      # Validação cruzada\n",
    "    scoring='accuracy',        # Métrica de avaliação\n",
    "    random_state=42,\n",
    "    verbose=2,\n",
    "    n_jobs=-1                  # Usar todos os núcleos disponíveis\n",
    ")"
   ]
  },
  {
   "cell_type": "code",
   "execution_count": 72,
   "metadata": {},
   "outputs": [
    {
     "name": "stdout",
     "output_type": "stream",
     "text": [
      "Fitting 3 folds for each of 50 candidates, totalling 150 fits\n",
      "[CV] END activation=logistic, alpha=0.005458327528535912, hidden_layer_sizes=(66,), learning_rate=adaptive, learning_rate_init=0.0059083612168199465, max_iter=187, solver=adam; total time=   2.0s\n",
      "[CV] END activation=logistic, alpha=0.00896542986860233, hidden_layer_sizes=(66,), learning_rate=adaptive, learning_rate_init=0.07329939418114051, max_iter=160, solver=adam; total time=   4.3s\n",
      "[CV] END activation=logistic, alpha=0.00896542986860233, hidden_layer_sizes=(66,), learning_rate=adaptive, learning_rate_init=0.07329939418114051, max_iter=160, solver=adam; total time=   4.7s\n",
      "[CV] END activation=logistic, alpha=0.00896542986860233, hidden_layer_sizes=(66,), learning_rate=adaptive, learning_rate_init=0.07329939418114051, max_iter=160, solver=adam; total time=   5.3s\n"
     ]
    },
    {
     "name": "stderr",
     "output_type": "stream",
     "text": [
      "/home/eduardoavs/PUC/S4/IA/TP/ambiente/lib/python3.12/site-packages/sklearn/neural_network/_multilayer_perceptron.py:690: ConvergenceWarning: Stochastic Optimizer: Maximum iterations (129) reached and the optimization hasn't converged yet.\n",
      "  warnings.warn(\n"
     ]
    },
    {
     "name": "stdout",
     "output_type": "stream",
     "text": [
      "[CV] END activation=logistic, alpha=0.0012058449429580246, hidden_layer_sizes=(66,), learning_rate=invscaling, learning_rate_init=0.07229987722668248, max_iter=129, solver=sgd; total time=   8.5s\n"
     ]
    },
    {
     "name": "stderr",
     "output_type": "stream",
     "text": [
      "/home/eduardoavs/PUC/S4/IA/TP/ambiente/lib/python3.12/site-packages/sklearn/neural_network/_multilayer_perceptron.py:690: ConvergenceWarning: Stochastic Optimizer: Maximum iterations (157) reached and the optimization hasn't converged yet.\n",
      "  warnings.warn(\n"
     ]
    },
    {
     "name": "stdout",
     "output_type": "stream",
     "text": [
      "[CV] END activation=tanh, alpha=0.002818249672071006, hidden_layer_sizes=(66,), learning_rate=constant, learning_rate_init=0.06184815096277166, max_iter=157, solver=sgd; total time=  10.2s\n"
     ]
    },
    {
     "name": "stderr",
     "output_type": "stream",
     "text": [
      "/home/eduardoavs/PUC/S4/IA/TP/ambiente/lib/python3.12/site-packages/sklearn/neural_network/_multilayer_perceptron.py:690: ConvergenceWarning: Stochastic Optimizer: Maximum iterations (157) reached and the optimization hasn't converged yet.\n",
      "  warnings.warn(\n"
     ]
    },
    {
     "name": "stdout",
     "output_type": "stream",
     "text": [
      "[CV] END activation=tanh, alpha=0.002818249672071006, hidden_layer_sizes=(66,), learning_rate=constant, learning_rate_init=0.06184815096277166, max_iter=157, solver=sgd; total time=  10.5s\n",
      "[CV] END activation=logistic, alpha=0.005560699842170359, hidden_layer_sizes=(66,), learning_rate=adaptive, learning_rate_init=0.06193860093330873, max_iter=207, solver=adam; total time=   6.4s\n",
      "[CV] END activation=logistic, alpha=0.005560699842170359, hidden_layer_sizes=(66,), learning_rate=adaptive, learning_rate_init=0.06193860093330873, max_iter=207, solver=adam; total time=   3.3s\n"
     ]
    },
    {
     "name": "stderr",
     "output_type": "stream",
     "text": [
      "/home/eduardoavs/PUC/S4/IA/TP/ambiente/lib/python3.12/site-packages/sklearn/neural_network/_multilayer_perceptron.py:690: ConvergenceWarning: Stochastic Optimizer: Maximum iterations (129) reached and the optimization hasn't converged yet.\n",
      "  warnings.warn(\n",
      "/home/eduardoavs/PUC/S4/IA/TP/ambiente/lib/python3.12/site-packages/sklearn/neural_network/_multilayer_perceptron.py:690: ConvergenceWarning: Stochastic Optimizer: Maximum iterations (129) reached and the optimization hasn't converged yet.\n",
      "  warnings.warn(\n"
     ]
    },
    {
     "name": "stdout",
     "output_type": "stream",
     "text": [
      "[CV] END activation=logistic, alpha=0.0012058449429580246, hidden_layer_sizes=(66,), learning_rate=invscaling, learning_rate_init=0.07229987722668248, max_iter=129, solver=sgd; total time=  12.9s\n",
      "[CV] END activation=logistic, alpha=0.0012058449429580246, hidden_layer_sizes=(66,), learning_rate=invscaling, learning_rate_init=0.07229987722668248, max_iter=129, solver=sgd; total time=  13.0s\n"
     ]
    },
    {
     "name": "stderr",
     "output_type": "stream",
     "text": [
      "/home/eduardoavs/PUC/S4/IA/TP/ambiente/lib/python3.12/site-packages/sklearn/neural_network/_multilayer_perceptron.py:690: ConvergenceWarning: Stochastic Optimizer: Maximum iterations (187) reached and the optimization hasn't converged yet.\n",
      "  warnings.warn(\n"
     ]
    },
    {
     "name": "stdout",
     "output_type": "stream",
     "text": [
      "[CV] END activation=logistic, alpha=0.005458327528535912, hidden_layer_sizes=(66,), learning_rate=adaptive, learning_rate_init=0.0059083612168199465, max_iter=187, solver=adam; total time=  13.4s\n",
      "[CV] END activation=relu, alpha=0.0014645041271999773, hidden_layer_sizes=(66,), learning_rate=adaptive, learning_rate_init=0.06813075385877798, max_iter=172, solver=adam; total time=   1.7s\n",
      "[CV] END activation=logistic, alpha=0.005560699842170359, hidden_layer_sizes=(66,), learning_rate=adaptive, learning_rate_init=0.06193860093330873, max_iter=207, solver=adam; total time=   3.5s\n",
      "[CV] END activation=relu, alpha=0.0014645041271999773, hidden_layer_sizes=(66,), learning_rate=adaptive, learning_rate_init=0.06813075385877798, max_iter=172, solver=adam; total time=   3.9s\n",
      "[CV] END activation=tanh, alpha=0.010488855372533332, hidden_layer_sizes=(66,), learning_rate=invscaling, learning_rate_init=0.08093973481164612, max_iter=108, solver=sgd; total time=   1.6s\n"
     ]
    },
    {
     "name": "stderr",
     "output_type": "stream",
     "text": [
      "/home/eduardoavs/PUC/S4/IA/TP/ambiente/lib/python3.12/site-packages/sklearn/neural_network/_multilayer_perceptron.py:690: ConvergenceWarning: Stochastic Optimizer: Maximum iterations (141) reached and the optimization hasn't converged yet.\n",
      "  warnings.warn(\n"
     ]
    },
    {
     "name": "stdout",
     "output_type": "stream",
     "text": [
      "[CV] END activation=relu, alpha=0.005319450186421158, hidden_layer_sizes=(66,), learning_rate=constant, learning_rate_init=0.05257746602583892, max_iter=141, solver=sgd; total time=  14.0s\n",
      "[CV] END activation=relu, alpha=0.00330893825622149, hidden_layer_sizes=(66,), learning_rate=adaptive, learning_rate_init=0.06842635188254582, max_iter=143, solver=adam; total time=   2.7s\n",
      "[CV] END activation=relu, alpha=0.00330893825622149, hidden_layer_sizes=(66,), learning_rate=adaptive, learning_rate_init=0.06842635188254582, max_iter=143, solver=adam; total time=   1.9s\n",
      "[CV] END activation=relu, alpha=0.00330893825622149, hidden_layer_sizes=(66,), learning_rate=adaptive, learning_rate_init=0.06842635188254582, max_iter=143, solver=adam; total time=   3.0s\n",
      "[CV] END activation=relu, alpha=0.0014645041271999773, hidden_layer_sizes=(66,), learning_rate=adaptive, learning_rate_init=0.06813075385877798, max_iter=172, solver=adam; total time=   5.6s\n",
      "[CV] END activation=tanh, alpha=0.010488855372533332, hidden_layer_sizes=(66,), learning_rate=invscaling, learning_rate_init=0.08093973481164612, max_iter=108, solver=sgd; total time=   4.5s\n",
      "[CV] END activation=tanh, alpha=0.010488855372533332, hidden_layer_sizes=(66,), learning_rate=invscaling, learning_rate_init=0.08093973481164612, max_iter=108, solver=sgd; total time=   4.7s\n"
     ]
    },
    {
     "name": "stderr",
     "output_type": "stream",
     "text": [
      "/home/eduardoavs/PUC/S4/IA/TP/ambiente/lib/python3.12/site-packages/sklearn/neural_network/_multilayer_perceptron.py:690: ConvergenceWarning: Stochastic Optimizer: Maximum iterations (141) reached and the optimization hasn't converged yet.\n",
      "  warnings.warn(\n"
     ]
    },
    {
     "name": "stdout",
     "output_type": "stream",
     "text": [
      "[CV] END activation=relu, alpha=0.005319450186421158, hidden_layer_sizes=(66,), learning_rate=constant, learning_rate_init=0.05257746602583892, max_iter=141, solver=sgd; total time=  14.4s\n"
     ]
    },
    {
     "name": "stderr",
     "output_type": "stream",
     "text": [
      "/home/eduardoavs/PUC/S4/IA/TP/ambiente/lib/python3.12/site-packages/sklearn/neural_network/_multilayer_perceptron.py:690: ConvergenceWarning: Stochastic Optimizer: Maximum iterations (141) reached and the optimization hasn't converged yet.\n",
      "  warnings.warn(\n"
     ]
    },
    {
     "name": "stdout",
     "output_type": "stream",
     "text": [
      "[CV] END activation=relu, alpha=0.005319450186421158, hidden_layer_sizes=(66,), learning_rate=constant, learning_rate_init=0.05257746602583892, max_iter=141, solver=sgd; total time=  14.3s\n",
      "[CV] END activation=tanh, alpha=0.005251558744912447, hidden_layer_sizes=(66,), learning_rate=invscaling, learning_rate_init=0.05477102793432797, max_iter=153, solver=adam; total time=   3.7s\n",
      "[CV] END activation=logistic, alpha=0.002733646535077721, hidden_layer_sizes=(66,), learning_rate=constant, learning_rate_init=0.02597799816000169, max_iter=203, solver=sgd; total time=   5.5s\n",
      "[CV] END activation=logistic, alpha=0.005458327528535912, hidden_layer_sizes=(66,), learning_rate=adaptive, learning_rate_init=0.0059083612168199465, max_iter=187, solver=adam; total time=  20.6s\n",
      "[CV] END activation=logistic, alpha=0.002733646535077721, hidden_layer_sizes=(66,), learning_rate=constant, learning_rate_init=0.02597799816000169, max_iter=203, solver=sgd; total time=   4.2s\n"
     ]
    },
    {
     "name": "stderr",
     "output_type": "stream",
     "text": [
      "/home/eduardoavs/PUC/S4/IA/TP/ambiente/lib/python3.12/site-packages/sklearn/neural_network/_multilayer_perceptron.py:690: ConvergenceWarning: Stochastic Optimizer: Maximum iterations (187) reached and the optimization hasn't converged yet.\n",
      "  warnings.warn(\n"
     ]
    },
    {
     "name": "stdout",
     "output_type": "stream",
     "text": [
      "[CV] END activation=logistic, alpha=0.002733646535077721, hidden_layer_sizes=(66,), learning_rate=constant, learning_rate_init=0.02597799816000169, max_iter=203, solver=sgd; total time=   5.8s\n",
      "[CV] END activation=logistic, alpha=0.01021874235023117, hidden_layer_sizes=(66,), learning_rate=invscaling, learning_rate_init=0.019698286241914522, max_iter=161, solver=sgd; total time=   2.0s\n",
      "[CV] END activation=logistic, alpha=0.01021874235023117, hidden_layer_sizes=(66,), learning_rate=invscaling, learning_rate_init=0.019698286241914522, max_iter=161, solver=sgd; total time=   3.2s\n",
      "[CV] END activation=logistic, alpha=0.01021874235023117, hidden_layer_sizes=(66,), learning_rate=invscaling, learning_rate_init=0.019698286241914522, max_iter=161, solver=sgd; total time=   2.0s\n",
      "[CV] END activation=relu, alpha=0.00488677289689482, hidden_layer_sizes=(66,), learning_rate=invscaling, learning_rate_init=0.05406921323890798, max_iter=123, solver=sgd; total time=   2.0s\n",
      "[CV] END activation=relu, alpha=0.00488677289689482, hidden_layer_sizes=(66,), learning_rate=invscaling, learning_rate_init=0.05406921323890798, max_iter=123, solver=sgd; total time=   2.5s\n",
      "[CV] END activation=tanh, alpha=0.005251558744912447, hidden_layer_sizes=(66,), learning_rate=invscaling, learning_rate_init=0.05477102793432797, max_iter=153, solver=adam; total time=   6.8s\n"
     ]
    },
    {
     "name": "stderr",
     "output_type": "stream",
     "text": [
      "/home/eduardoavs/PUC/S4/IA/TP/ambiente/lib/python3.12/site-packages/sklearn/neural_network/_multilayer_perceptron.py:690: ConvergenceWarning: Stochastic Optimizer: Maximum iterations (157) reached and the optimization hasn't converged yet.\n",
      "  warnings.warn(\n"
     ]
    },
    {
     "name": "stdout",
     "output_type": "stream",
     "text": [
      "[CV] END activation=tanh, alpha=0.002818249672071006, hidden_layer_sizes=(66,), learning_rate=constant, learning_rate_init=0.06184815096277166, max_iter=157, solver=sgd; total time=  23.8s\n",
      "[CV] END activation=relu, alpha=0.00488677289689482, hidden_layer_sizes=(66,), learning_rate=invscaling, learning_rate_init=0.05406921323890798, max_iter=123, solver=sgd; total time=   2.1s\n",
      "[CV] END activation=tanh, alpha=0.005251558744912447, hidden_layer_sizes=(66,), learning_rate=invscaling, learning_rate_init=0.05477102793432797, max_iter=153, solver=adam; total time=  10.5s\n",
      "[CV] END activation=logistic, alpha=0.009154614284548342, hidden_layer_sizes=(66,), learning_rate=constant, learning_rate_init=0.071234195274865, max_iter=134, solver=adam; total time=   5.8s\n",
      "[CV] END activation=logistic, alpha=0.009154614284548342, hidden_layer_sizes=(66,), learning_rate=constant, learning_rate_init=0.071234195274865, max_iter=134, solver=adam; total time=   6.1s\n"
     ]
    },
    {
     "name": "stderr",
     "output_type": "stream",
     "text": [
      "/home/eduardoavs/PUC/S4/IA/TP/ambiente/lib/python3.12/site-packages/sklearn/neural_network/_multilayer_perceptron.py:690: ConvergenceWarning: Stochastic Optimizer: Maximum iterations (114) reached and the optimization hasn't converged yet.\n",
      "  warnings.warn(\n"
     ]
    },
    {
     "name": "stdout",
     "output_type": "stream",
     "text": [
      "[CV] END activation=relu, alpha=0.0038093450968738076, hidden_layer_sizes=(66,), learning_rate=constant, learning_rate_init=0.014192422497476265, max_iter=114, solver=adam; total time=   8.2s\n"
     ]
    },
    {
     "name": "stderr",
     "output_type": "stream",
     "text": [
      "/home/eduardoavs/PUC/S4/IA/TP/ambiente/lib/python3.12/site-packages/sklearn/neural_network/_multilayer_perceptron.py:690: ConvergenceWarning: Stochastic Optimizer: Maximum iterations (114) reached and the optimization hasn't converged yet.\n",
      "  warnings.warn(\n"
     ]
    },
    {
     "name": "stdout",
     "output_type": "stream",
     "text": [
      "[CV] END activation=relu, alpha=0.0038093450968738076, hidden_layer_sizes=(66,), learning_rate=constant, learning_rate_init=0.014192422497476265, max_iter=114, solver=adam; total time=   8.3s\n",
      "[CV] END activation=logistic, alpha=0.009422847745949984, hidden_layer_sizes=(66,), learning_rate=invscaling, learning_rate_init=0.039615023600181445, max_iter=199, solver=sgd; total time=  16.1s\n",
      "[CV] END activation=logistic, alpha=0.009422847745949984, hidden_layer_sizes=(66,), learning_rate=invscaling, learning_rate_init=0.039615023600181445, max_iter=199, solver=sgd; total time=  16.3s\n",
      "[CV] END activation=logistic, alpha=0.009154614284548342, hidden_layer_sizes=(66,), learning_rate=constant, learning_rate_init=0.071234195274865, max_iter=134, solver=adam; total time=   6.1s\n",
      "[CV] END activation=relu, alpha=0.0011563640674119393, hidden_layer_sizes=(66,), learning_rate=constant, learning_rate_init=0.07732447692966575, max_iter=207, solver=sgd; total time=  12.0s\n",
      "[CV] END activation=logistic, alpha=0.009422847745949984, hidden_layer_sizes=(66,), learning_rate=invscaling, learning_rate_init=0.039615023600181445, max_iter=199, solver=sgd; total time=  17.0s\n",
      "[CV] END activation=logistic, alpha=0.0017404465173409037, hidden_layer_sizes=(66,), learning_rate=adaptive, learning_rate_init=0.06520770255019445, max_iter=127, solver=adam; total time=   5.8s\n"
     ]
    },
    {
     "name": "stderr",
     "output_type": "stream",
     "text": [
      "/home/eduardoavs/PUC/S4/IA/TP/ambiente/lib/python3.12/site-packages/sklearn/neural_network/_multilayer_perceptron.py:690: ConvergenceWarning: Stochastic Optimizer: Maximum iterations (114) reached and the optimization hasn't converged yet.\n",
      "  warnings.warn(\n"
     ]
    },
    {
     "name": "stdout",
     "output_type": "stream",
     "text": [
      "[CV] END activation=relu, alpha=0.0038093450968738076, hidden_layer_sizes=(66,), learning_rate=constant, learning_rate_init=0.014192422497476265, max_iter=114, solver=adam; total time=  14.3s\n",
      "[CV] END activation=relu, alpha=0.0011563640674119393, hidden_layer_sizes=(66,), learning_rate=constant, learning_rate_init=0.07732447692966575, max_iter=207, solver=sgd; total time=  14.7s\n",
      "[CV] END activation=logistic, alpha=0.005722149251619493, hidden_layer_sizes=(66,), learning_rate=constant, learning_rate_init=0.09727120953891039, max_iter=102, solver=adam; total time=   1.9s\n",
      "[CV] END activation=logistic, alpha=0.0017404465173409037, hidden_layer_sizes=(66,), learning_rate=adaptive, learning_rate_init=0.06520770255019445, max_iter=127, solver=adam; total time=   8.7s\n",
      "[CV] END activation=tanh, alpha=0.004251833220267471, hidden_layer_sizes=(66,), learning_rate=adaptive, learning_rate_init=0.05922977877077272, max_iter=185, solver=adam; total time=   5.8s\n",
      "[CV] END activation=relu, alpha=0.007232981268275579, hidden_layer_sizes=(66,), learning_rate=invscaling, learning_rate_init=0.009641011649041131, max_iter=218, solver=adam; total time=   7.2s\n",
      "[CV] END activation=logistic, alpha=0.005722149251619493, hidden_layer_sizes=(66,), learning_rate=constant, learning_rate_init=0.09727120953891039, max_iter=102, solver=adam; total time=   4.5s\n",
      "[CV] END activation=logistic, alpha=0.005722149251619493, hidden_layer_sizes=(66,), learning_rate=constant, learning_rate_init=0.09727120953891039, max_iter=102, solver=adam; total time=   3.0s\n",
      "[CV] END activation=tanh, alpha=0.004251833220267471, hidden_layer_sizes=(66,), learning_rate=adaptive, learning_rate_init=0.05922977877077272, max_iter=185, solver=adam; total time=   8.8s\n",
      "[CV] END activation=logistic, alpha=0.0017404465173409037, hidden_layer_sizes=(66,), learning_rate=adaptive, learning_rate_init=0.06520770255019445, max_iter=127, solver=adam; total time=  12.9s\n",
      "[CV] END activation=relu, alpha=0.006612771975694962, hidden_layer_sizes=(66,), learning_rate=adaptive, learning_rate_init=0.025706832276132397, max_iter=126, solver=adam; total time=   3.0s\n",
      "[CV] END activation=relu, alpha=0.0011563640674119393, hidden_layer_sizes=(66,), learning_rate=constant, learning_rate_init=0.07732447692966575, max_iter=207, solver=sgd; total time=  20.7s\n",
      "[CV] END activation=tanh, alpha=0.004251833220267471, hidden_layer_sizes=(66,), learning_rate=adaptive, learning_rate_init=0.05922977877077272, max_iter=185, solver=adam; total time=   8.7s\n",
      "[CV] END activation=relu, alpha=0.006612771975694962, hidden_layer_sizes=(66,), learning_rate=adaptive, learning_rate_init=0.025706832276132397, max_iter=126, solver=adam; total time=   6.6s\n",
      "[CV] END activation=relu, alpha=0.007232981268275579, hidden_layer_sizes=(66,), learning_rate=invscaling, learning_rate_init=0.009641011649041131, max_iter=218, solver=adam; total time=  15.1s\n",
      "[CV] END activation=logistic, alpha=0.005753702231821117, hidden_layer_sizes=(66,), learning_rate=constant, learning_rate_init=0.050957069116470285, max_iter=193, solver=adam; total time=   2.6s\n",
      "[CV] END activation=logistic, alpha=0.007044173792778173, hidden_layer_sizes=(66,), learning_rate=adaptive, learning_rate_init=0.07565511385430487, max_iter=135, solver=adam; total time=   2.7s\n",
      "[CV] END activation=logistic, alpha=0.005275410183585496, hidden_layer_sizes=(66,), learning_rate=invscaling, learning_rate_init=0.04403365018657702, max_iter=150, solver=adam; total time=   6.4s\n",
      "[CV] END activation=logistic, alpha=0.005753702231821117, hidden_layer_sizes=(66,), learning_rate=constant, learning_rate_init=0.050957069116470285, max_iter=193, solver=adam; total time=   4.6s\n",
      "[CV] END activation=logistic, alpha=0.005275410183585496, hidden_layer_sizes=(66,), learning_rate=invscaling, learning_rate_init=0.04403365018657702, max_iter=150, solver=adam; total time=   7.6s\n",
      "[CV] END activation=tanh, alpha=0.007334037565104235, hidden_layer_sizes=(66,), learning_rate=invscaling, learning_rate_init=0.04575345704829103, max_iter=207, solver=sgd; total time=   1.3s\n",
      "[CV] END activation=logistic, alpha=0.00389751452913768, hidden_layer_sizes=(66,), learning_rate=invscaling, learning_rate_init=0.08814678390152578, max_iter=141, solver=adam; total time=   3.4s\n",
      "[CV] END activation=logistic, alpha=0.007044173792778173, hidden_layer_sizes=(66,), learning_rate=adaptive, learning_rate_init=0.07565511385430487, max_iter=135, solver=adam; total time=   5.9s\n",
      "[CV] END activation=logistic, alpha=0.007044173792778173, hidden_layer_sizes=(66,), learning_rate=adaptive, learning_rate_init=0.07565511385430487, max_iter=135, solver=adam; total time=   5.2s\n",
      "[CV] END activation=logistic, alpha=0.00389751452913768, hidden_layer_sizes=(66,), learning_rate=invscaling, learning_rate_init=0.08814678390152578, max_iter=141, solver=adam; total time=   4.2s\n",
      "[CV] END activation=logistic, alpha=0.005753702231821117, hidden_layer_sizes=(66,), learning_rate=constant, learning_rate_init=0.050957069116470285, max_iter=193, solver=adam; total time=   7.7s\n",
      "[CV] END activation=relu, alpha=0.006612771975694962, hidden_layer_sizes=(66,), learning_rate=adaptive, learning_rate_init=0.025706832276132397, max_iter=126, solver=adam; total time=  12.2s\n",
      "[CV] END activation=logistic, alpha=0.00389751452913768, hidden_layer_sizes=(66,), learning_rate=invscaling, learning_rate_init=0.08814678390152578, max_iter=141, solver=adam; total time=   3.5s\n",
      "[CV] END activation=tanh, alpha=0.007334037565104235, hidden_layer_sizes=(66,), learning_rate=invscaling, learning_rate_init=0.04575345704829103, max_iter=207, solver=sgd; total time=   3.3s\n",
      "[CV] END activation=logistic, alpha=0.005275410183585496, hidden_layer_sizes=(66,), learning_rate=invscaling, learning_rate_init=0.04403365018657702, max_iter=150, solver=adam; total time=  10.0s\n",
      "[CV] END activation=tanh, alpha=0.007334037565104235, hidden_layer_sizes=(66,), learning_rate=invscaling, learning_rate_init=0.04575345704829103, max_iter=207, solver=sgd; total time=   2.9s\n",
      "[CV] END activation=relu, alpha=0.007232981268275579, hidden_layer_sizes=(66,), learning_rate=invscaling, learning_rate_init=0.009641011649041131, max_iter=218, solver=adam; total time=  18.0s\n",
      "[CV] END activation=relu, alpha=0.0040478125815802905, hidden_layer_sizes=(66,), learning_rate=invscaling, learning_rate_init=0.05117473025775658, max_iter=108, solver=sgd; total time=   1.8s\n",
      "[CV] END activation=relu, alpha=0.0040478125815802905, hidden_layer_sizes=(66,), learning_rate=invscaling, learning_rate_init=0.05117473025775658, max_iter=108, solver=sgd; total time=   1.7s\n",
      "[CV] END activation=relu, alpha=0.0040478125815802905, hidden_layer_sizes=(66,), learning_rate=invscaling, learning_rate_init=0.05117473025775658, max_iter=108, solver=sgd; total time=   1.7s\n",
      "[CV] END activation=tanh, alpha=0.0021005192452767676, hidden_layer_sizes=(66,), learning_rate=constant, learning_rate_init=0.06486901205413624, max_iter=215, solver=adam; total time=   4.5s\n",
      "[CV] END activation=relu, alpha=0.007924360328902704, hidden_layer_sizes=(66,), learning_rate=invscaling, learning_rate_init=0.0338615171403628, max_iter=178, solver=adam; total time=   4.1s\n",
      "[CV] END activation=relu, alpha=0.007924360328902704, hidden_layer_sizes=(66,), learning_rate=invscaling, learning_rate_init=0.0338615171403628, max_iter=178, solver=adam; total time=   4.5s\n",
      "[CV] END activation=tanh, alpha=0.010624472949421114, hidden_layer_sizes=(66,), learning_rate=invscaling, learning_rate_init=0.06973042728397884, max_iter=102, solver=adam; total time=   1.6s\n",
      "[CV] END activation=tanh, alpha=0.0031876421957307026, hidden_layer_sizes=(66,), learning_rate=constant, learning_rate_init=0.04048361710580409, max_iter=161, solver=adam; total time=   4.3s\n",
      "[CV] END activation=relu, alpha=0.007924360328902704, hidden_layer_sizes=(66,), learning_rate=invscaling, learning_rate_init=0.0338615171403628, max_iter=178, solver=adam; total time=   7.4s\n",
      "[CV] END activation=tanh, alpha=0.0021005192452767676, hidden_layer_sizes=(66,), learning_rate=constant, learning_rate_init=0.06486901205413624, max_iter=215, solver=adam; total time=   8.7s\n",
      "[CV] END activation=tanh, alpha=0.010624472949421114, hidden_layer_sizes=(66,), learning_rate=invscaling, learning_rate_init=0.06973042728397884, max_iter=102, solver=adam; total time=   3.3s\n",
      "[CV] END activation=tanh, alpha=0.0021005192452767676, hidden_layer_sizes=(66,), learning_rate=constant, learning_rate_init=0.06486901205413624, max_iter=215, solver=adam; total time=   9.5s\n",
      "[CV] END activation=tanh, alpha=0.0031876421957307026, hidden_layer_sizes=(66,), learning_rate=constant, learning_rate_init=0.04048361710580409, max_iter=161, solver=adam; total time=   7.8s\n",
      "[CV] END activation=tanh, alpha=0.0031876421957307026, hidden_layer_sizes=(66,), learning_rate=constant, learning_rate_init=0.04048361710580409, max_iter=161, solver=adam; total time=   7.5s\n",
      "[CV] END activation=tanh, alpha=0.009832802589188682, hidden_layer_sizes=(66,), learning_rate=invscaling, learning_rate_init=0.012308795470067335, max_iter=188, solver=adam; total time=  11.0s\n"
     ]
    },
    {
     "name": "stderr",
     "output_type": "stream",
     "text": [
      "/home/eduardoavs/PUC/S4/IA/TP/ambiente/lib/python3.12/site-packages/sklearn/neural_network/_multilayer_perceptron.py:690: ConvergenceWarning: Stochastic Optimizer: Maximum iterations (101) reached and the optimization hasn't converged yet.\n",
      "  warnings.warn(\n"
     ]
    },
    {
     "name": "stdout",
     "output_type": "stream",
     "text": [
      "[CV] END activation=relu, alpha=0.003848404943774676, hidden_layer_sizes=(66,), learning_rate=constant, learning_rate_init=0.0267781014275285, max_iter=101, solver=sgd; total time=   6.3s\n",
      "[CV] END activation=tanh, alpha=0.009832802589188682, hidden_layer_sizes=(66,), learning_rate=invscaling, learning_rate_init=0.012308795470067335, max_iter=188, solver=adam; total time=  13.9s\n",
      "[CV] END activation=tanh, alpha=0.010624472949421114, hidden_layer_sizes=(66,), learning_rate=invscaling, learning_rate_init=0.06973042728397884, max_iter=102, solver=adam; total time=   7.0s\n",
      "[CV] END activation=relu, alpha=0.003848404943774676, hidden_layer_sizes=(66,), learning_rate=constant, learning_rate_init=0.0267781014275285, max_iter=101, solver=sgd; total time=   6.2s\n"
     ]
    },
    {
     "name": "stderr",
     "output_type": "stream",
     "text": [
      "/home/eduardoavs/PUC/S4/IA/TP/ambiente/lib/python3.12/site-packages/sklearn/neural_network/_multilayer_perceptron.py:690: ConvergenceWarning: Stochastic Optimizer: Maximum iterations (101) reached and the optimization hasn't converged yet.\n",
      "  warnings.warn(\n"
     ]
    },
    {
     "name": "stdout",
     "output_type": "stream",
     "text": [
      "[CV] END activation=tanh, alpha=0.0013305073290054838, hidden_layer_sizes=(66,), learning_rate=constant, learning_rate_init=0.06353513447013638, max_iter=101, solver=adam; total time=   7.7s\n",
      "[CV] END activation=tanh, alpha=0.0013305073290054838, hidden_layer_sizes=(66,), learning_rate=constant, learning_rate_init=0.06353513447013638, max_iter=101, solver=adam; total time=   7.9s\n"
     ]
    },
    {
     "name": "stderr",
     "output_type": "stream",
     "text": [
      "/home/eduardoavs/PUC/S4/IA/TP/ambiente/lib/python3.12/site-packages/sklearn/neural_network/_multilayer_perceptron.py:690: ConvergenceWarning: Stochastic Optimizer: Maximum iterations (101) reached and the optimization hasn't converged yet.\n",
      "  warnings.warn(\n"
     ]
    },
    {
     "name": "stdout",
     "output_type": "stream",
     "text": [
      "[CV] END activation=relu, alpha=0.003848404943774676, hidden_layer_sizes=(66,), learning_rate=constant, learning_rate_init=0.0267781014275285, max_iter=101, solver=sgd; total time=   9.1s\n",
      "[CV] END activation=logistic, alpha=0.003421599382774259, hidden_layer_sizes=(66,), learning_rate=invscaling, learning_rate_init=0.036878313271925325, max_iter=215, solver=sgd; total time=   7.0s\n",
      "[CV] END activation=logistic, alpha=0.003421599382774259, hidden_layer_sizes=(66,), learning_rate=invscaling, learning_rate_init=0.036878313271925325, max_iter=215, solver=sgd; total time=   7.1s\n",
      "[CV] END activation=logistic, alpha=0.0028651851039985425, hidden_layer_sizes=(66,), learning_rate=constant, learning_rate_init=0.08593588048137199, max_iter=158, solver=sgd; total time=   2.3s\n"
     ]
    },
    {
     "name": "stderr",
     "output_type": "stream",
     "text": [
      "/home/eduardoavs/PUC/S4/IA/TP/ambiente/lib/python3.12/site-packages/sklearn/neural_network/_multilayer_perceptron.py:690: ConvergenceWarning: Stochastic Optimizer: Maximum iterations (174) reached and the optimization hasn't converged yet.\n",
      "  warnings.warn(\n"
     ]
    },
    {
     "name": "stdout",
     "output_type": "stream",
     "text": [
      "[CV] END activation=tanh, alpha=0.010856504541106007, hidden_layer_sizes=(66,), learning_rate=adaptive, learning_rate_init=0.06731355474058787, max_iter=174, solver=sgd; total time=  12.2s\n",
      "[CV] END activation=tanh, alpha=0.0013305073290054838, hidden_layer_sizes=(66,), learning_rate=constant, learning_rate_init=0.06353513447013638, max_iter=101, solver=adam; total time=  13.7s\n",
      "[CV] END activation=logistic, alpha=0.003421599382774259, hidden_layer_sizes=(66,), learning_rate=invscaling, learning_rate_init=0.036878313271925325, max_iter=215, solver=sgd; total time=  11.4s\n",
      "[CV] END activation=logistic, alpha=0.0028651851039985425, hidden_layer_sizes=(66,), learning_rate=constant, learning_rate_init=0.08593588048137199, max_iter=158, solver=sgd; total time=   5.6s\n",
      "[CV] END activation=tanh, alpha=0.009832802589188682, hidden_layer_sizes=(66,), learning_rate=invscaling, learning_rate_init=0.012308795470067335, max_iter=188, solver=adam; total time=  25.8s\n",
      "[CV] END activation=relu, alpha=0.007909377381024658, hidden_layer_sizes=(66,), learning_rate=adaptive, learning_rate_init=0.09377299887367346, max_iter=100, solver=adam; total time=   2.2s\n",
      "[CV] END activation=logistic, alpha=0.0028651851039985425, hidden_layer_sizes=(66,), learning_rate=constant, learning_rate_init=0.08593588048137199, max_iter=158, solver=sgd; total time=   9.8s\n",
      "[CV] END activation=tanh, alpha=0.004988244424445531, hidden_layer_sizes=(66,), learning_rate=adaptive, learning_rate_init=0.00912897700544083, max_iter=196, solver=adam; total time=  14.6s\n",
      "[CV] END activation=relu, alpha=0.007909377381024658, hidden_layer_sizes=(66,), learning_rate=adaptive, learning_rate_init=0.09377299887367346, max_iter=100, solver=adam; total time=   2.5s\n",
      "[CV] END activation=relu, alpha=0.007909377381024658, hidden_layer_sizes=(66,), learning_rate=adaptive, learning_rate_init=0.09377299887367346, max_iter=100, solver=adam; total time=   2.8s\n",
      "[CV] END activation=logistic, alpha=0.008111495324380179, hidden_layer_sizes=(66,), learning_rate=adaptive, learning_rate_init=0.022749577519793795, max_iter=195, solver=adam; total time=   6.4s\n",
      "[CV] END activation=logistic, alpha=0.008111495324380179, hidden_layer_sizes=(66,), learning_rate=adaptive, learning_rate_init=0.022749577519793795, max_iter=195, solver=adam; total time=   7.3s\n",
      "[CV] END activation=relu, alpha=0.002134735212405891, hidden_layer_sizes=(66,), learning_rate=adaptive, learning_rate_init=0.05424479738275659, max_iter=141, solver=adam; total time=   2.5s\n",
      "[CV] END activation=relu, alpha=0.003418522909004517, hidden_layer_sizes=(66,), learning_rate=invscaling, learning_rate_init=0.08982157579533269, max_iter=136, solver=sgd; total time=   1.4s\n",
      "[CV] END activation=relu, alpha=0.002134735212405891, hidden_layer_sizes=(66,), learning_rate=adaptive, learning_rate_init=0.05424479738275659, max_iter=141, solver=adam; total time=   5.6s\n",
      "[CV] END activation=relu, alpha=0.003418522909004517, hidden_layer_sizes=(66,), learning_rate=invscaling, learning_rate_init=0.08982157579533269, max_iter=136, solver=sgd; total time=   2.2s\n",
      "[CV] END activation=relu, alpha=0.003418522909004517, hidden_layer_sizes=(66,), learning_rate=invscaling, learning_rate_init=0.08982157579533269, max_iter=136, solver=sgd; total time=   2.1s\n",
      "[CV] END activation=relu, alpha=0.002134735212405891, hidden_layer_sizes=(66,), learning_rate=adaptive, learning_rate_init=0.05424479738275659, max_iter=141, solver=adam; total time=   5.7s\n",
      "[CV] END activation=logistic, alpha=0.008111495324380179, hidden_layer_sizes=(66,), learning_rate=adaptive, learning_rate_init=0.022749577519793795, max_iter=195, solver=adam; total time=  10.8s\n"
     ]
    },
    {
     "name": "stderr",
     "output_type": "stream",
     "text": [
      "/home/eduardoavs/PUC/S4/IA/TP/ambiente/lib/python3.12/site-packages/sklearn/neural_network/_multilayer_perceptron.py:690: ConvergenceWarning: Stochastic Optimizer: Maximum iterations (174) reached and the optimization hasn't converged yet.\n",
      "  warnings.warn(\n",
      "/home/eduardoavs/PUC/S4/IA/TP/ambiente/lib/python3.12/site-packages/sklearn/neural_network/_multilayer_perceptron.py:690: ConvergenceWarning: Stochastic Optimizer: Maximum iterations (174) reached and the optimization hasn't converged yet.\n",
      "  warnings.warn(\n"
     ]
    },
    {
     "name": "stdout",
     "output_type": "stream",
     "text": [
      "[CV] END activation=tanh, alpha=0.010856504541106007, hidden_layer_sizes=(66,), learning_rate=adaptive, learning_rate_init=0.06731355474058787, max_iter=174, solver=sgd; total time=  25.9s\n",
      "[CV] END activation=logistic, alpha=0.007599840460341791, hidden_layer_sizes=(66,), learning_rate=invscaling, learning_rate_init=0.09831683433294357, max_iter=215, solver=sgd; total time=   7.9s\n",
      "[CV] END activation=tanh, alpha=0.010856504541106007, hidden_layer_sizes=(66,), learning_rate=adaptive, learning_rate_init=0.06731355474058787, max_iter=174, solver=sgd; total time=  26.0s\n",
      "[CV] END activation=logistic, alpha=0.002887071083413794, hidden_layer_sizes=(66,), learning_rate=constant, learning_rate_init=0.03502095746126609, max_iter=147, solver=sgd; total time=   3.9s\n",
      "[CV] END activation=logistic, alpha=0.002887071083413794, hidden_layer_sizes=(66,), learning_rate=constant, learning_rate_init=0.03502095746126609, max_iter=147, solver=sgd; total time=   3.9s\n",
      "[CV] END activation=logistic, alpha=0.002887071083413794, hidden_layer_sizes=(66,), learning_rate=constant, learning_rate_init=0.03502095746126609, max_iter=147, solver=sgd; total time=   4.9s\n",
      "[CV] END activation=logistic, alpha=0.007599840460341791, hidden_layer_sizes=(66,), learning_rate=invscaling, learning_rate_init=0.09831683433294357, max_iter=215, solver=sgd; total time=   8.0s\n",
      "[CV] END activation=logistic, alpha=0.007599840460341791, hidden_layer_sizes=(66,), learning_rate=invscaling, learning_rate_init=0.09831683433294357, max_iter=215, solver=sgd; total time=  11.1s\n"
     ]
    },
    {
     "name": "stderr",
     "output_type": "stream",
     "text": [
      "/home/eduardoavs/PUC/S4/IA/TP/ambiente/lib/python3.12/site-packages/sklearn/neural_network/_multilayer_perceptron.py:690: ConvergenceWarning: Stochastic Optimizer: Maximum iterations (123) reached and the optimization hasn't converged yet.\n",
      "  warnings.warn(\n"
     ]
    },
    {
     "name": "stdout",
     "output_type": "stream",
     "text": [
      "[CV] END activation=logistic, alpha=0.009563242918780926, hidden_layer_sizes=(66,), learning_rate=invscaling, learning_rate_init=0.0780875545857624, max_iter=123, solver=sgd; total time=  14.6s\n",
      "[CV] END activation=tanh, alpha=0.010401334424577784, hidden_layer_sizes=(66,), learning_rate=constant, learning_rate_init=0.0006061583846218687, max_iter=209, solver=sgd; total time=  12.9s\n"
     ]
    },
    {
     "name": "stderr",
     "output_type": "stream",
     "text": [
      "/home/eduardoavs/PUC/S4/IA/TP/ambiente/lib/python3.12/site-packages/sklearn/neural_network/_multilayer_perceptron.py:690: ConvergenceWarning: Stochastic Optimizer: Maximum iterations (123) reached and the optimization hasn't converged yet.\n",
      "  warnings.warn(\n",
      "/home/eduardoavs/PUC/S4/IA/TP/ambiente/lib/python3.12/site-packages/sklearn/neural_network/_multilayer_perceptron.py:690: ConvergenceWarning: Stochastic Optimizer: Maximum iterations (198) reached and the optimization hasn't converged yet.\n",
      "  warnings.warn(\n"
     ]
    },
    {
     "name": "stdout",
     "output_type": "stream",
     "text": [
      "[CV] END activation=logistic, alpha=0.009563242918780926, hidden_layer_sizes=(66,), learning_rate=invscaling, learning_rate_init=0.0780875545857624, max_iter=123, solver=sgd; total time=  15.5s\n",
      "[CV] END activation=logistic, alpha=0.010356349942209474, hidden_layer_sizes=(66,), learning_rate=invscaling, learning_rate_init=0.06699882547142287, max_iter=198, solver=sgd; total time=  13.9s\n",
      "[CV] END activation=tanh, alpha=0.010401334424577784, hidden_layer_sizes=(66,), learning_rate=constant, learning_rate_init=0.0006061583846218687, max_iter=209, solver=sgd; total time=  13.1s\n",
      "[CV] END activation=logistic, alpha=0.010356349942209474, hidden_layer_sizes=(66,), learning_rate=invscaling, learning_rate_init=0.06699882547142287, max_iter=198, solver=sgd; total time=  14.3s\n"
     ]
    },
    {
     "name": "stderr",
     "output_type": "stream",
     "text": [
      "/home/eduardoavs/PUC/S4/IA/TP/ambiente/lib/python3.12/site-packages/sklearn/neural_network/_multilayer_perceptron.py:690: ConvergenceWarning: Stochastic Optimizer: Maximum iterations (198) reached and the optimization hasn't converged yet.\n",
      "  warnings.warn(\n",
      "/home/eduardoavs/PUC/S4/IA/TP/ambiente/lib/python3.12/site-packages/sklearn/neural_network/_multilayer_perceptron.py:690: ConvergenceWarning: Stochastic Optimizer: Maximum iterations (196) reached and the optimization hasn't converged yet.\n",
      "  warnings.warn(\n"
     ]
    },
    {
     "name": "stdout",
     "output_type": "stream",
     "text": [
      "[CV] END activation=tanh, alpha=0.004988244424445531, hidden_layer_sizes=(66,), learning_rate=adaptive, learning_rate_init=0.00912897700544083, max_iter=196, solver=adam; total time=  34.4s\n",
      "[CV] END activation=tanh, alpha=0.004988244424445531, hidden_layer_sizes=(66,), learning_rate=adaptive, learning_rate_init=0.00912897700544083, max_iter=196, solver=adam; total time=  34.3s\n",
      "[CV] END activation=logistic, alpha=0.009563242918780926, hidden_layer_sizes=(66,), learning_rate=invscaling, learning_rate_init=0.0780875545857624, max_iter=123, solver=sgd; total time=  15.5s\n"
     ]
    },
    {
     "name": "stderr",
     "output_type": "stream",
     "text": [
      "/home/eduardoavs/PUC/S4/IA/TP/ambiente/lib/python3.12/site-packages/sklearn/neural_network/_multilayer_perceptron.py:690: ConvergenceWarning: Stochastic Optimizer: Maximum iterations (123) reached and the optimization hasn't converged yet.\n",
      "  warnings.warn(\n",
      "/home/eduardoavs/PUC/S4/IA/TP/ambiente/lib/python3.12/site-packages/sklearn/neural_network/_multilayer_perceptron.py:690: ConvergenceWarning: Stochastic Optimizer: Maximum iterations (198) reached and the optimization hasn't converged yet.\n",
      "  warnings.warn(\n"
     ]
    },
    {
     "name": "stdout",
     "output_type": "stream",
     "text": [
      "[CV] END activation=logistic, alpha=0.010356349942209474, hidden_layer_sizes=(66,), learning_rate=invscaling, learning_rate_init=0.06699882547142287, max_iter=198, solver=sgd; total time=  20.2s\n"
     ]
    },
    {
     "name": "stderr",
     "output_type": "stream",
     "text": [
      "/home/eduardoavs/PUC/S4/IA/TP/ambiente/lib/python3.12/site-packages/sklearn/neural_network/_multilayer_perceptron.py:690: ConvergenceWarning: Stochastic Optimizer: Maximum iterations (132) reached and the optimization hasn't converged yet.\n",
      "  warnings.warn(\n"
     ]
    },
    {
     "name": "stdout",
     "output_type": "stream",
     "text": [
      "[CV] END activation=tanh, alpha=0.007918951976926932, hidden_layer_sizes=(66,), learning_rate=constant, learning_rate_init=0.02252693094605598, max_iter=132, solver=sgd; total time=  18.2s\n"
     ]
    },
    {
     "name": "stderr",
     "output_type": "stream",
     "text": [
      "/home/eduardoavs/PUC/S4/IA/TP/ambiente/lib/python3.12/site-packages/sklearn/neural_network/_multilayer_perceptron.py:690: ConvergenceWarning: Stochastic Optimizer: Maximum iterations (132) reached and the optimization hasn't converged yet.\n",
      "  warnings.warn(\n",
      "/home/eduardoavs/PUC/S4/IA/TP/ambiente/lib/python3.12/site-packages/sklearn/neural_network/_multilayer_perceptron.py:690: ConvergenceWarning: Stochastic Optimizer: Maximum iterations (132) reached and the optimization hasn't converged yet.\n",
      "  warnings.warn(\n"
     ]
    },
    {
     "name": "stdout",
     "output_type": "stream",
     "text": [
      "[CV] END activation=relu, alpha=0.005938937151834346, hidden_layer_sizes=(66,), learning_rate=adaptive, learning_rate_init=0.07219399242521293, max_iter=132, solver=sgd; total time=   7.4s\n",
      "[CV] END activation=relu, alpha=0.005938937151834346, hidden_layer_sizes=(66,), learning_rate=adaptive, learning_rate_init=0.07219399242521293, max_iter=132, solver=sgd; total time=   7.6s\n"
     ]
    },
    {
     "name": "stderr",
     "output_type": "stream",
     "text": [
      "/home/eduardoavs/PUC/S4/IA/TP/ambiente/lib/python3.12/site-packages/sklearn/neural_network/_multilayer_perceptron.py:690: ConvergenceWarning: Stochastic Optimizer: Maximum iterations (132) reached and the optimization hasn't converged yet.\n",
      "  warnings.warn(\n",
      "/home/eduardoavs/PUC/S4/IA/TP/ambiente/lib/python3.12/site-packages/sklearn/neural_network/_multilayer_perceptron.py:690: ConvergenceWarning: Stochastic Optimizer: Maximum iterations (132) reached and the optimization hasn't converged yet.\n",
      "  warnings.warn(\n"
     ]
    },
    {
     "name": "stdout",
     "output_type": "stream",
     "text": [
      "[CV] END activation=relu, alpha=0.005938937151834346, hidden_layer_sizes=(66,), learning_rate=adaptive, learning_rate_init=0.07219399242521293, max_iter=132, solver=sgd; total time=   8.2s\n",
      "[CV] END activation=tanh, alpha=0.007918951976926932, hidden_layer_sizes=(66,), learning_rate=constant, learning_rate_init=0.02252693094605598, max_iter=132, solver=sgd; total time=  10.8s\n"
     ]
    },
    {
     "name": "stderr",
     "output_type": "stream",
     "text": [
      "/home/eduardoavs/PUC/S4/IA/TP/ambiente/lib/python3.12/site-packages/sklearn/neural_network/_multilayer_perceptron.py:690: ConvergenceWarning: Stochastic Optimizer: Maximum iterations (132) reached and the optimization hasn't converged yet.\n",
      "  warnings.warn(\n"
     ]
    },
    {
     "name": "stdout",
     "output_type": "stream",
     "text": [
      "[CV] END activation=tanh, alpha=0.007918951976926932, hidden_layer_sizes=(66,), learning_rate=constant, learning_rate_init=0.02252693094605598, max_iter=132, solver=sgd; total time=   9.2s\n",
      "[CV] END activation=tanh, alpha=0.010401334424577784, hidden_layer_sizes=(66,), learning_rate=constant, learning_rate_init=0.0006061583846218687, max_iter=209, solver=sgd; total time=  22.2s\n"
     ]
    },
    {
     "data": {
      "text/html": [
       "<style>#sk-container-id-6 {\n",
       "  /* Definition of color scheme common for light and dark mode */\n",
       "  --sklearn-color-text: black;\n",
       "  --sklearn-color-line: gray;\n",
       "  /* Definition of color scheme for unfitted estimators */\n",
       "  --sklearn-color-unfitted-level-0: #fff5e6;\n",
       "  --sklearn-color-unfitted-level-1: #f6e4d2;\n",
       "  --sklearn-color-unfitted-level-2: #ffe0b3;\n",
       "  --sklearn-color-unfitted-level-3: chocolate;\n",
       "  /* Definition of color scheme for fitted estimators */\n",
       "  --sklearn-color-fitted-level-0: #f0f8ff;\n",
       "  --sklearn-color-fitted-level-1: #d4ebff;\n",
       "  --sklearn-color-fitted-level-2: #b3dbfd;\n",
       "  --sklearn-color-fitted-level-3: cornflowerblue;\n",
       "\n",
       "  /* Specific color for light theme */\n",
       "  --sklearn-color-text-on-default-background: var(--sg-text-color, var(--theme-code-foreground, var(--jp-content-font-color1, black)));\n",
       "  --sklearn-color-background: var(--sg-background-color, var(--theme-background, var(--jp-layout-color0, white)));\n",
       "  --sklearn-color-border-box: var(--sg-text-color, var(--theme-code-foreground, var(--jp-content-font-color1, black)));\n",
       "  --sklearn-color-icon: #696969;\n",
       "\n",
       "  @media (prefers-color-scheme: dark) {\n",
       "    /* Redefinition of color scheme for dark theme */\n",
       "    --sklearn-color-text-on-default-background: var(--sg-text-color, var(--theme-code-foreground, var(--jp-content-font-color1, white)));\n",
       "    --sklearn-color-background: var(--sg-background-color, var(--theme-background, var(--jp-layout-color0, #111)));\n",
       "    --sklearn-color-border-box: var(--sg-text-color, var(--theme-code-foreground, var(--jp-content-font-color1, white)));\n",
       "    --sklearn-color-icon: #878787;\n",
       "  }\n",
       "}\n",
       "\n",
       "#sk-container-id-6 {\n",
       "  color: var(--sklearn-color-text);\n",
       "}\n",
       "\n",
       "#sk-container-id-6 pre {\n",
       "  padding: 0;\n",
       "}\n",
       "\n",
       "#sk-container-id-6 input.sk-hidden--visually {\n",
       "  border: 0;\n",
       "  clip: rect(1px 1px 1px 1px);\n",
       "  clip: rect(1px, 1px, 1px, 1px);\n",
       "  height: 1px;\n",
       "  margin: -1px;\n",
       "  overflow: hidden;\n",
       "  padding: 0;\n",
       "  position: absolute;\n",
       "  width: 1px;\n",
       "}\n",
       "\n",
       "#sk-container-id-6 div.sk-dashed-wrapped {\n",
       "  border: 1px dashed var(--sklearn-color-line);\n",
       "  margin: 0 0.4em 0.5em 0.4em;\n",
       "  box-sizing: border-box;\n",
       "  padding-bottom: 0.4em;\n",
       "  background-color: var(--sklearn-color-background);\n",
       "}\n",
       "\n",
       "#sk-container-id-6 div.sk-container {\n",
       "  /* jupyter's `normalize.less` sets `[hidden] { display: none; }`\n",
       "     but bootstrap.min.css set `[hidden] { display: none !important; }`\n",
       "     so we also need the `!important` here to be able to override the\n",
       "     default hidden behavior on the sphinx rendered scikit-learn.org.\n",
       "     See: https://github.com/scikit-learn/scikit-learn/issues/21755 */\n",
       "  display: inline-block !important;\n",
       "  position: relative;\n",
       "}\n",
       "\n",
       "#sk-container-id-6 div.sk-text-repr-fallback {\n",
       "  display: none;\n",
       "}\n",
       "\n",
       "div.sk-parallel-item,\n",
       "div.sk-serial,\n",
       "div.sk-item {\n",
       "  /* draw centered vertical line to link estimators */\n",
       "  background-image: linear-gradient(var(--sklearn-color-text-on-default-background), var(--sklearn-color-text-on-default-background));\n",
       "  background-size: 2px 100%;\n",
       "  background-repeat: no-repeat;\n",
       "  background-position: center center;\n",
       "}\n",
       "\n",
       "/* Parallel-specific style estimator block */\n",
       "\n",
       "#sk-container-id-6 div.sk-parallel-item::after {\n",
       "  content: \"\";\n",
       "  width: 100%;\n",
       "  border-bottom: 2px solid var(--sklearn-color-text-on-default-background);\n",
       "  flex-grow: 1;\n",
       "}\n",
       "\n",
       "#sk-container-id-6 div.sk-parallel {\n",
       "  display: flex;\n",
       "  align-items: stretch;\n",
       "  justify-content: center;\n",
       "  background-color: var(--sklearn-color-background);\n",
       "  position: relative;\n",
       "}\n",
       "\n",
       "#sk-container-id-6 div.sk-parallel-item {\n",
       "  display: flex;\n",
       "  flex-direction: column;\n",
       "}\n",
       "\n",
       "#sk-container-id-6 div.sk-parallel-item:first-child::after {\n",
       "  align-self: flex-end;\n",
       "  width: 50%;\n",
       "}\n",
       "\n",
       "#sk-container-id-6 div.sk-parallel-item:last-child::after {\n",
       "  align-self: flex-start;\n",
       "  width: 50%;\n",
       "}\n",
       "\n",
       "#sk-container-id-6 div.sk-parallel-item:only-child::after {\n",
       "  width: 0;\n",
       "}\n",
       "\n",
       "/* Serial-specific style estimator block */\n",
       "\n",
       "#sk-container-id-6 div.sk-serial {\n",
       "  display: flex;\n",
       "  flex-direction: column;\n",
       "  align-items: center;\n",
       "  background-color: var(--sklearn-color-background);\n",
       "  padding-right: 1em;\n",
       "  padding-left: 1em;\n",
       "}\n",
       "\n",
       "\n",
       "/* Toggleable style: style used for estimator/Pipeline/ColumnTransformer box that is\n",
       "clickable and can be expanded/collapsed.\n",
       "- Pipeline and ColumnTransformer use this feature and define the default style\n",
       "- Estimators will overwrite some part of the style using the `sk-estimator` class\n",
       "*/\n",
       "\n",
       "/* Pipeline and ColumnTransformer style (default) */\n",
       "\n",
       "#sk-container-id-6 div.sk-toggleable {\n",
       "  /* Default theme specific background. It is overwritten whether we have a\n",
       "  specific estimator or a Pipeline/ColumnTransformer */\n",
       "  background-color: var(--sklearn-color-background);\n",
       "}\n",
       "\n",
       "/* Toggleable label */\n",
       "#sk-container-id-6 label.sk-toggleable__label {\n",
       "  cursor: pointer;\n",
       "  display: block;\n",
       "  width: 100%;\n",
       "  margin-bottom: 0;\n",
       "  padding: 0.5em;\n",
       "  box-sizing: border-box;\n",
       "  text-align: center;\n",
       "}\n",
       "\n",
       "#sk-container-id-6 label.sk-toggleable__label-arrow:before {\n",
       "  /* Arrow on the left of the label */\n",
       "  content: \"▸\";\n",
       "  float: left;\n",
       "  margin-right: 0.25em;\n",
       "  color: var(--sklearn-color-icon);\n",
       "}\n",
       "\n",
       "#sk-container-id-6 label.sk-toggleable__label-arrow:hover:before {\n",
       "  color: var(--sklearn-color-text);\n",
       "}\n",
       "\n",
       "/* Toggleable content - dropdown */\n",
       "\n",
       "#sk-container-id-6 div.sk-toggleable__content {\n",
       "  max-height: 0;\n",
       "  max-width: 0;\n",
       "  overflow: hidden;\n",
       "  text-align: left;\n",
       "  /* unfitted */\n",
       "  background-color: var(--sklearn-color-unfitted-level-0);\n",
       "}\n",
       "\n",
       "#sk-container-id-6 div.sk-toggleable__content.fitted {\n",
       "  /* fitted */\n",
       "  background-color: var(--sklearn-color-fitted-level-0);\n",
       "}\n",
       "\n",
       "#sk-container-id-6 div.sk-toggleable__content pre {\n",
       "  margin: 0.2em;\n",
       "  border-radius: 0.25em;\n",
       "  color: var(--sklearn-color-text);\n",
       "  /* unfitted */\n",
       "  background-color: var(--sklearn-color-unfitted-level-0);\n",
       "}\n",
       "\n",
       "#sk-container-id-6 div.sk-toggleable__content.fitted pre {\n",
       "  /* unfitted */\n",
       "  background-color: var(--sklearn-color-fitted-level-0);\n",
       "}\n",
       "\n",
       "#sk-container-id-6 input.sk-toggleable__control:checked~div.sk-toggleable__content {\n",
       "  /* Expand drop-down */\n",
       "  max-height: 200px;\n",
       "  max-width: 100%;\n",
       "  overflow: auto;\n",
       "}\n",
       "\n",
       "#sk-container-id-6 input.sk-toggleable__control:checked~label.sk-toggleable__label-arrow:before {\n",
       "  content: \"▾\";\n",
       "}\n",
       "\n",
       "/* Pipeline/ColumnTransformer-specific style */\n",
       "\n",
       "#sk-container-id-6 div.sk-label input.sk-toggleable__control:checked~label.sk-toggleable__label {\n",
       "  color: var(--sklearn-color-text);\n",
       "  background-color: var(--sklearn-color-unfitted-level-2);\n",
       "}\n",
       "\n",
       "#sk-container-id-6 div.sk-label.fitted input.sk-toggleable__control:checked~label.sk-toggleable__label {\n",
       "  background-color: var(--sklearn-color-fitted-level-2);\n",
       "}\n",
       "\n",
       "/* Estimator-specific style */\n",
       "\n",
       "/* Colorize estimator box */\n",
       "#sk-container-id-6 div.sk-estimator input.sk-toggleable__control:checked~label.sk-toggleable__label {\n",
       "  /* unfitted */\n",
       "  background-color: var(--sklearn-color-unfitted-level-2);\n",
       "}\n",
       "\n",
       "#sk-container-id-6 div.sk-estimator.fitted input.sk-toggleable__control:checked~label.sk-toggleable__label {\n",
       "  /* fitted */\n",
       "  background-color: var(--sklearn-color-fitted-level-2);\n",
       "}\n",
       "\n",
       "#sk-container-id-6 div.sk-label label.sk-toggleable__label,\n",
       "#sk-container-id-6 div.sk-label label {\n",
       "  /* The background is the default theme color */\n",
       "  color: var(--sklearn-color-text-on-default-background);\n",
       "}\n",
       "\n",
       "/* On hover, darken the color of the background */\n",
       "#sk-container-id-6 div.sk-label:hover label.sk-toggleable__label {\n",
       "  color: var(--sklearn-color-text);\n",
       "  background-color: var(--sklearn-color-unfitted-level-2);\n",
       "}\n",
       "\n",
       "/* Label box, darken color on hover, fitted */\n",
       "#sk-container-id-6 div.sk-label.fitted:hover label.sk-toggleable__label.fitted {\n",
       "  color: var(--sklearn-color-text);\n",
       "  background-color: var(--sklearn-color-fitted-level-2);\n",
       "}\n",
       "\n",
       "/* Estimator label */\n",
       "\n",
       "#sk-container-id-6 div.sk-label label {\n",
       "  font-family: monospace;\n",
       "  font-weight: bold;\n",
       "  display: inline-block;\n",
       "  line-height: 1.2em;\n",
       "}\n",
       "\n",
       "#sk-container-id-6 div.sk-label-container {\n",
       "  text-align: center;\n",
       "}\n",
       "\n",
       "/* Estimator-specific */\n",
       "#sk-container-id-6 div.sk-estimator {\n",
       "  font-family: monospace;\n",
       "  border: 1px dotted var(--sklearn-color-border-box);\n",
       "  border-radius: 0.25em;\n",
       "  box-sizing: border-box;\n",
       "  margin-bottom: 0.5em;\n",
       "  /* unfitted */\n",
       "  background-color: var(--sklearn-color-unfitted-level-0);\n",
       "}\n",
       "\n",
       "#sk-container-id-6 div.sk-estimator.fitted {\n",
       "  /* fitted */\n",
       "  background-color: var(--sklearn-color-fitted-level-0);\n",
       "}\n",
       "\n",
       "/* on hover */\n",
       "#sk-container-id-6 div.sk-estimator:hover {\n",
       "  /* unfitted */\n",
       "  background-color: var(--sklearn-color-unfitted-level-2);\n",
       "}\n",
       "\n",
       "#sk-container-id-6 div.sk-estimator.fitted:hover {\n",
       "  /* fitted */\n",
       "  background-color: var(--sklearn-color-fitted-level-2);\n",
       "}\n",
       "\n",
       "/* Specification for estimator info (e.g. \"i\" and \"?\") */\n",
       "\n",
       "/* Common style for \"i\" and \"?\" */\n",
       "\n",
       ".sk-estimator-doc-link,\n",
       "a:link.sk-estimator-doc-link,\n",
       "a:visited.sk-estimator-doc-link {\n",
       "  float: right;\n",
       "  font-size: smaller;\n",
       "  line-height: 1em;\n",
       "  font-family: monospace;\n",
       "  background-color: var(--sklearn-color-background);\n",
       "  border-radius: 1em;\n",
       "  height: 1em;\n",
       "  width: 1em;\n",
       "  text-decoration: none !important;\n",
       "  margin-left: 1ex;\n",
       "  /* unfitted */\n",
       "  border: var(--sklearn-color-unfitted-level-1) 1pt solid;\n",
       "  color: var(--sklearn-color-unfitted-level-1);\n",
       "}\n",
       "\n",
       ".sk-estimator-doc-link.fitted,\n",
       "a:link.sk-estimator-doc-link.fitted,\n",
       "a:visited.sk-estimator-doc-link.fitted {\n",
       "  /* fitted */\n",
       "  border: var(--sklearn-color-fitted-level-1) 1pt solid;\n",
       "  color: var(--sklearn-color-fitted-level-1);\n",
       "}\n",
       "\n",
       "/* On hover */\n",
       "div.sk-estimator:hover .sk-estimator-doc-link:hover,\n",
       ".sk-estimator-doc-link:hover,\n",
       "div.sk-label-container:hover .sk-estimator-doc-link:hover,\n",
       ".sk-estimator-doc-link:hover {\n",
       "  /* unfitted */\n",
       "  background-color: var(--sklearn-color-unfitted-level-3);\n",
       "  color: var(--sklearn-color-background);\n",
       "  text-decoration: none;\n",
       "}\n",
       "\n",
       "div.sk-estimator.fitted:hover .sk-estimator-doc-link.fitted:hover,\n",
       ".sk-estimator-doc-link.fitted:hover,\n",
       "div.sk-label-container:hover .sk-estimator-doc-link.fitted:hover,\n",
       ".sk-estimator-doc-link.fitted:hover {\n",
       "  /* fitted */\n",
       "  background-color: var(--sklearn-color-fitted-level-3);\n",
       "  color: var(--sklearn-color-background);\n",
       "  text-decoration: none;\n",
       "}\n",
       "\n",
       "/* Span, style for the box shown on hovering the info icon */\n",
       ".sk-estimator-doc-link span {\n",
       "  display: none;\n",
       "  z-index: 9999;\n",
       "  position: relative;\n",
       "  font-weight: normal;\n",
       "  right: .2ex;\n",
       "  padding: .5ex;\n",
       "  margin: .5ex;\n",
       "  width: min-content;\n",
       "  min-width: 20ex;\n",
       "  max-width: 50ex;\n",
       "  color: var(--sklearn-color-text);\n",
       "  box-shadow: 2pt 2pt 4pt #999;\n",
       "  /* unfitted */\n",
       "  background: var(--sklearn-color-unfitted-level-0);\n",
       "  border: .5pt solid var(--sklearn-color-unfitted-level-3);\n",
       "}\n",
       "\n",
       ".sk-estimator-doc-link.fitted span {\n",
       "  /* fitted */\n",
       "  background: var(--sklearn-color-fitted-level-0);\n",
       "  border: var(--sklearn-color-fitted-level-3);\n",
       "}\n",
       "\n",
       ".sk-estimator-doc-link:hover span {\n",
       "  display: block;\n",
       "}\n",
       "\n",
       "/* \"?\"-specific style due to the `<a>` HTML tag */\n",
       "\n",
       "#sk-container-id-6 a.estimator_doc_link {\n",
       "  float: right;\n",
       "  font-size: 1rem;\n",
       "  line-height: 1em;\n",
       "  font-family: monospace;\n",
       "  background-color: var(--sklearn-color-background);\n",
       "  border-radius: 1rem;\n",
       "  height: 1rem;\n",
       "  width: 1rem;\n",
       "  text-decoration: none;\n",
       "  /* unfitted */\n",
       "  color: var(--sklearn-color-unfitted-level-1);\n",
       "  border: var(--sklearn-color-unfitted-level-1) 1pt solid;\n",
       "}\n",
       "\n",
       "#sk-container-id-6 a.estimator_doc_link.fitted {\n",
       "  /* fitted */\n",
       "  border: var(--sklearn-color-fitted-level-1) 1pt solid;\n",
       "  color: var(--sklearn-color-fitted-level-1);\n",
       "}\n",
       "\n",
       "/* On hover */\n",
       "#sk-container-id-6 a.estimator_doc_link:hover {\n",
       "  /* unfitted */\n",
       "  background-color: var(--sklearn-color-unfitted-level-3);\n",
       "  color: var(--sklearn-color-background);\n",
       "  text-decoration: none;\n",
       "}\n",
       "\n",
       "#sk-container-id-6 a.estimator_doc_link.fitted:hover {\n",
       "  /* fitted */\n",
       "  background-color: var(--sklearn-color-fitted-level-3);\n",
       "}\n",
       "</style><div id=\"sk-container-id-6\" class=\"sk-top-container\"><div class=\"sk-text-repr-fallback\"><pre>RandomizedSearchCV(cv=3, estimator=MLPClassifier(random_state=42), n_iter=50,\n",
       "                   n_jobs=-1,\n",
       "                   param_distributions={&#x27;activation&#x27;: [&#x27;relu&#x27;, &#x27;tanh&#x27;,\n",
       "                                                       &#x27;logistic&#x27;],\n",
       "                                        &#x27;alpha&#x27;: &lt;scipy.stats._distn_infrastructure.rv_continuous_frozen object at 0x7f9c0774af30&gt;,\n",
       "                                        &#x27;hidden_layer_sizes&#x27;: [(66,)],\n",
       "                                        &#x27;learning_rate&#x27;: [&#x27;constant&#x27;,\n",
       "                                                          &#x27;invscaling&#x27;,\n",
       "                                                          &#x27;adaptive&#x27;],\n",
       "                                        &#x27;learning_rate_init&#x27;: &lt;scipy.stats._distn_infrastructure.rv_continuous_frozen object at 0x7f9c492bd2b0&gt;,\n",
       "                                        &#x27;max_iter&#x27;: &lt;scipy.stats._distn_infrastructure.rv_discrete_frozen object at 0x7f9c052f24b0&gt;,\n",
       "                                        &#x27;solver&#x27;: [&#x27;adam&#x27;, &#x27;sgd&#x27;]},\n",
       "                   random_state=42, scoring=&#x27;accuracy&#x27;, verbose=2)</pre><b>In a Jupyter environment, please rerun this cell to show the HTML representation or trust the notebook. <br />On GitHub, the HTML representation is unable to render, please try loading this page with nbviewer.org.</b></div><div class=\"sk-container\" hidden><div class=\"sk-item sk-dashed-wrapped\"><div class=\"sk-label-container\"><div class=\"sk-label fitted sk-toggleable\"><input class=\"sk-toggleable__control sk-hidden--visually\" id=\"sk-estimator-id-16\" type=\"checkbox\" ><label for=\"sk-estimator-id-16\" class=\"sk-toggleable__label fitted sk-toggleable__label-arrow fitted\">&nbsp;&nbsp;RandomizedSearchCV<a class=\"sk-estimator-doc-link fitted\" rel=\"noreferrer\" target=\"_blank\" href=\"https://scikit-learn.org/1.5/modules/generated/sklearn.model_selection.RandomizedSearchCV.html\">?<span>Documentation for RandomizedSearchCV</span></a><span class=\"sk-estimator-doc-link fitted\">i<span>Fitted</span></span></label><div class=\"sk-toggleable__content fitted\"><pre>RandomizedSearchCV(cv=3, estimator=MLPClassifier(random_state=42), n_iter=50,\n",
       "                   n_jobs=-1,\n",
       "                   param_distributions={&#x27;activation&#x27;: [&#x27;relu&#x27;, &#x27;tanh&#x27;,\n",
       "                                                       &#x27;logistic&#x27;],\n",
       "                                        &#x27;alpha&#x27;: &lt;scipy.stats._distn_infrastructure.rv_continuous_frozen object at 0x7f9c0774af30&gt;,\n",
       "                                        &#x27;hidden_layer_sizes&#x27;: [(66,)],\n",
       "                                        &#x27;learning_rate&#x27;: [&#x27;constant&#x27;,\n",
       "                                                          &#x27;invscaling&#x27;,\n",
       "                                                          &#x27;adaptive&#x27;],\n",
       "                                        &#x27;learning_rate_init&#x27;: &lt;scipy.stats._distn_infrastructure.rv_continuous_frozen object at 0x7f9c492bd2b0&gt;,\n",
       "                                        &#x27;max_iter&#x27;: &lt;scipy.stats._distn_infrastructure.rv_discrete_frozen object at 0x7f9c052f24b0&gt;,\n",
       "                                        &#x27;solver&#x27;: [&#x27;adam&#x27;, &#x27;sgd&#x27;]},\n",
       "                   random_state=42, scoring=&#x27;accuracy&#x27;, verbose=2)</pre></div> </div></div><div class=\"sk-parallel\"><div class=\"sk-parallel-item\"><div class=\"sk-item\"><div class=\"sk-label-container\"><div class=\"sk-label fitted sk-toggleable\"><input class=\"sk-toggleable__control sk-hidden--visually\" id=\"sk-estimator-id-17\" type=\"checkbox\" ><label for=\"sk-estimator-id-17\" class=\"sk-toggleable__label fitted sk-toggleable__label-arrow fitted\">best_estimator_: MLPClassifier</label><div class=\"sk-toggleable__content fitted\"><pre>MLPClassifier(activation=&#x27;logistic&#x27;, alpha=0.002733646535077721,\n",
       "              hidden_layer_sizes=(66,), learning_rate_init=0.02597799816000169,\n",
       "              max_iter=203, random_state=42, solver=&#x27;sgd&#x27;)</pre></div> </div></div><div class=\"sk-serial\"><div class=\"sk-item\"><div class=\"sk-estimator fitted sk-toggleable\"><input class=\"sk-toggleable__control sk-hidden--visually\" id=\"sk-estimator-id-18\" type=\"checkbox\" ><label for=\"sk-estimator-id-18\" class=\"sk-toggleable__label fitted sk-toggleable__label-arrow fitted\">&nbsp;MLPClassifier<a class=\"sk-estimator-doc-link fitted\" rel=\"noreferrer\" target=\"_blank\" href=\"https://scikit-learn.org/1.5/modules/generated/sklearn.neural_network.MLPClassifier.html\">?<span>Documentation for MLPClassifier</span></a></label><div class=\"sk-toggleable__content fitted\"><pre>MLPClassifier(activation=&#x27;logistic&#x27;, alpha=0.002733646535077721,\n",
       "              hidden_layer_sizes=(66,), learning_rate_init=0.02597799816000169,\n",
       "              max_iter=203, random_state=42, solver=&#x27;sgd&#x27;)</pre></div> </div></div></div></div></div></div></div></div></div>"
      ],
      "text/plain": [
       "RandomizedSearchCV(cv=3, estimator=MLPClassifier(random_state=42), n_iter=50,\n",
       "                   n_jobs=-1,\n",
       "                   param_distributions={'activation': ['relu', 'tanh',\n",
       "                                                       'logistic'],\n",
       "                                        'alpha': <scipy.stats._distn_infrastructure.rv_continuous_frozen object at 0x7f9c0774af30>,\n",
       "                                        'hidden_layer_sizes': [(66,)],\n",
       "                                        'learning_rate': ['constant',\n",
       "                                                          'invscaling',\n",
       "                                                          'adaptive'],\n",
       "                                        'learning_rate_init': <scipy.stats._distn_infrastructure.rv_continuous_frozen object at 0x7f9c492bd2b0>,\n",
       "                                        'max_iter': <scipy.stats._distn_infrastructure.rv_discrete_frozen object at 0x7f9c052f24b0>,\n",
       "                                        'solver': ['adam', 'sgd']},\n",
       "                   random_state=42, scoring='accuracy', verbose=2)"
      ]
     },
     "execution_count": 72,
     "metadata": {},
     "output_type": "execute_result"
    }
   ],
   "source": [
    "modelo.fit(X_train, y_train)"
   ]
  },
  {
   "cell_type": "code",
   "execution_count": 73,
   "metadata": {},
   "outputs": [
    {
     "name": "stdout",
     "output_type": "stream",
     "text": [
      "{'activation': 'logistic', 'alpha': 0.002733646535077721, 'hidden_layer_sizes': (66,), 'learning_rate': 'constant', 'learning_rate_init': 0.02597799816000169, 'max_iter': 203, 'solver': 'sgd'}\n"
     ]
    }
   ],
   "source": [
    "print(modelo.best_params_)\n"
   ]
  },
  {
   "cell_type": "code",
   "execution_count": 74,
   "metadata": {},
   "outputs": [],
   "source": [
    "melhor_modelo = modelo.best_estimator_\n",
    "previsoes = melhor_modelo.predict(X_test)"
   ]
  },
  {
   "cell_type": "code",
   "execution_count": 75,
   "metadata": {},
   "outputs": [
    {
     "data": {
      "text/plain": [
       "array([[ 1397,   262],\n",
       "       [ 4134, 12374]])"
      ]
     },
     "execution_count": 75,
     "metadata": {},
     "output_type": "execute_result"
    }
   ],
   "source": [
    "from yellowbrick.classifier import ConfusionMatrix\n",
    "confusion_matrix(y_test, previsoes)"
   ]
  },
  {
   "cell_type": "code",
   "execution_count": 76,
   "metadata": {},
   "outputs": [
    {
     "data": {
      "text/plain": [
       "0.7580227885726868"
      ]
     },
     "execution_count": 76,
     "metadata": {},
     "output_type": "execute_result"
    },
    {
     "name": "stderr",
     "output_type": "stream",
     "text": [
      "findfont: Generic family 'sans-serif' not found because none of the following families were found: Arial, Liberation Sans, Bitstream Vera Sans, sans-serif\n",
      "findfont: Generic family 'sans-serif' not found because none of the following families were found: Arial, Liberation Sans, Bitstream Vera Sans, sans-serif\n",
      "findfont: Generic family 'sans-serif' not found because none of the following families were found: Arial, Liberation Sans, Bitstream Vera Sans, sans-serif\n",
      "findfont: Generic family 'sans-serif' not found because none of the following families were found: Arial, Liberation Sans, Bitstream Vera Sans, sans-serif\n",
      "findfont: Generic family 'sans-serif' not found because none of the following families were found: Arial, Liberation Sans, Bitstream Vera Sans, sans-serif\n",
      "findfont: Generic family 'sans-serif' not found because none of the following families were found: Arial, Liberation Sans, Bitstream Vera Sans, sans-serif\n",
      "findfont: Generic family 'sans-serif' not found because none of the following families were found: Arial, Liberation Sans, Bitstream Vera Sans, sans-serif\n",
      "findfont: Generic family 'sans-serif' not found because none of the following families were found: Arial, Liberation Sans, Bitstream Vera Sans, sans-serif\n",
      "findfont: Generic family 'sans-serif' not found because none of the following families were found: Arial, Liberation Sans, Bitstream Vera Sans, sans-serif\n",
      "findfont: Generic family 'sans-serif' not found because none of the following families were found: Arial, Liberation Sans, Bitstream Vera Sans, sans-serif\n",
      "findfont: Generic family 'sans-serif' not found because none of the following families were found: Arial, Liberation Sans, Bitstream Vera Sans, sans-serif\n",
      "findfont: Generic family 'sans-serif' not found because none of the following families were found: Arial, Liberation Sans, Bitstream Vera Sans, sans-serif\n",
      "findfont: Generic family 'sans-serif' not found because none of the following families were found: Arial, Liberation Sans, Bitstream Vera Sans, sans-serif\n",
      "findfont: Generic family 'sans-serif' not found because none of the following families were found: Arial, Liberation Sans, Bitstream Vera Sans, sans-serif\n",
      "findfont: Generic family 'sans-serif' not found because none of the following families were found: Arial, Liberation Sans, Bitstream Vera Sans, sans-serif\n",
      "findfont: Generic family 'sans-serif' not found because none of the following families were found: Arial, Liberation Sans, Bitstream Vera Sans, sans-serif\n",
      "findfont: Generic family 'sans-serif' not found because none of the following families were found: Arial, Liberation Sans, Bitstream Vera Sans, sans-serif\n",
      "findfont: Generic family 'sans-serif' not found because none of the following families were found: Arial, Liberation Sans, Bitstream Vera Sans, sans-serif\n",
      "findfont: Generic family 'sans-serif' not found because none of the following families were found: Arial, Liberation Sans, Bitstream Vera Sans, sans-serif\n",
      "findfont: Generic family 'sans-serif' not found because none of the following families were found: Arial, Liberation Sans, Bitstream Vera Sans, sans-serif\n",
      "findfont: Generic family 'sans-serif' not found because none of the following families were found: Arial, Liberation Sans, Bitstream Vera Sans, sans-serif\n",
      "findfont: Generic family 'sans-serif' not found because none of the following families were found: Arial, Liberation Sans, Bitstream Vera Sans, sans-serif\n",
      "findfont: Generic family 'sans-serif' not found because none of the following families were found: Arial, Liberation Sans, Bitstream Vera Sans, sans-serif\n",
      "findfont: Generic family 'sans-serif' not found because none of the following families were found: Arial, Liberation Sans, Bitstream Vera Sans, sans-serif\n",
      "findfont: Generic family 'sans-serif' not found because none of the following families were found: Arial, Liberation Sans, Bitstream Vera Sans, sans-serif\n",
      "findfont: Generic family 'sans-serif' not found because none of the following families were found: Arial, Liberation Sans, Bitstream Vera Sans, sans-serif\n",
      "findfont: Generic family 'sans-serif' not found because none of the following families were found: Arial, Liberation Sans, Bitstream Vera Sans, sans-serif\n",
      "findfont: Generic family 'sans-serif' not found because none of the following families were found: Arial, Liberation Sans, Bitstream Vera Sans, sans-serif\n",
      "findfont: Generic family 'sans-serif' not found because none of the following families were found: Arial, Liberation Sans, Bitstream Vera Sans, sans-serif\n",
      "findfont: Generic family 'sans-serif' not found because none of the following families were found: Arial, Liberation Sans, Bitstream Vera Sans, sans-serif\n"
     ]
    },
    {
     "data": {
      "image/png": "[encoded data removed]",
      "text/plain": [
       "<Figure size 800x550 with 1 Axes>"
      ]
     },
     "metadata": {},
     "output_type": "display_data"
    }
   ],
   "source": [
    "cm = ConfusionMatrix(modelo)\n",
    "cm.fit(X_train, y_train)\n",
    "cm.score(X_test, y_test)"
   ]
  },
  {
   "cell_type": "code",
   "execution_count": 77,
   "metadata": {},
   "outputs": [
    {
     "name": "stdout",
     "output_type": "stream",
     "text": [
      "              precision    recall  f1-score   support\n",
      "\n",
      "         0.0       0.25      0.84      0.39      1659\n",
      "         1.0       0.98      0.75      0.85     16508\n",
      "\n",
      "    accuracy                           0.76     18167\n",
      "   macro avg       0.62      0.80      0.62     18167\n",
      "weighted avg       0.91      0.76      0.81     18167\n",
      "\n"
     ]
    }
   ],
   "source": [
    "print(classification_report(y_test, previsoes))"
   ]
  },
  {
   "cell_type": "code",
   "execution_count": 78,
   "metadata": {},
   "outputs": [],
   "source": [
    "nomes_das_features = ['C009_1',\n",
    " 'C009_2',\n",
    " 'C009_3',\n",
    " 'C011_1.0',\n",
    " 'C011_2.0',\n",
    " 'C011_3.0',\n",
    " 'C011_4.0',\n",
    " 'C006',\n",
    " 'C00703',\n",
    " 'D00901',\n",
    " 'J007',\n",
    " 'M01401',\n",
    " 'M01501',\n",
    " 'M01601',\n",
    " 'M01901',\n",
    " 'N001',\n",
    " 'N00101',\n",
    " 'N010',\n",
    " 'N011',\n",
    " 'N012',\n",
    " 'N013',\n",
    " 'N014',\n",
    " 'N015',\n",
    " 'N016',\n",
    " 'N017',\n",
    " 'N018',\n",
    " 'P018',\n",
    " 'P02002',\n",
    " 'P02602',\n",
    " 'P027',\n",
    " 'P034',\n",
    " 'P04502',\n",
    " 'P050',\n",
    " 'Q120',\n",
    " 'V00201',\n",
    " 'V00203',\n",
    " 'V02802',\n",
    " 'H001',\n",
    " 'VDF002']"
   ]
  },
  {
   "cell_type": "code",
   "execution_count": 79,
   "metadata": {},
   "outputs": [
    {
     "data": {
      "application/vnd.jupyter.widget-view+json": {
       "model_id": "ad527b433abc47dba19a268486058306",
       "version_major": 2,
       "version_minor": 0
      },
      "text/plain": [
       "  0%|          | 0/100 [00:00<?, ?it/s]"
      ]
     },
     "metadata": {},
     "output_type": "display_data"
    }
   ],
   "source": [
    "import shap\n",
    "\n",
    "explainer = shap.KernelExplainer(melhor_modelo.predict, X_train[:100])\n",
    "shap_values = explainer.shap_values(X_test[:100])\n"
   ]
  },
  {
   "cell_type": "code",
   "execution_count": 80,
   "metadata": {},
   "outputs": [
    {
     "name": "stderr",
     "output_type": "stream",
     "text": [
      "findfont: Generic family 'sans-serif' not found because none of the following families were found: Arial, Liberation Sans, Bitstream Vera Sans, sans-serif\n",
      "findfont: Generic family 'sans-serif' not found because none of the following families were found: Arial, Liberation Sans, Bitstream Vera Sans, sans-serif\n",
      "findfont: Generic family 'sans-serif' not found because none of the following families were found: Arial, Liberation Sans, Bitstream Vera Sans, sans-serif\n",
      "findfont: Generic family 'sans-serif' not found because none of the following families were found: Arial, Liberation Sans, Bitstream Vera Sans, sans-serif\n",
      "findfont: Generic family 'sans-serif' not found because none of the following families were found: Arial, Liberation Sans, Bitstream Vera Sans, sans-serif\n",
      "findfont: Generic family 'sans-serif' not found because none of the following families were found: Arial, Liberation Sans, Bitstream Vera Sans, sans-serif\n",
      "findfont: Generic family 'sans-serif' not found because none of the following families were found: Arial, Liberation Sans, Bitstream Vera Sans, sans-serif\n",
      "findfont: Generic family 'sans-serif' not found because none of the following families were found: Arial, Liberation Sans, Bitstream Vera Sans, sans-serif\n",
      "findfont: Generic family 'sans-serif' not found because none of the following families were found: Arial, Liberation Sans, Bitstream Vera Sans, sans-serif\n",
      "findfont: Generic family 'sans-serif' not found because none of the following families were found: Arial, Liberation Sans, Bitstream Vera Sans, sans-serif\n",
      "findfont: Generic family 'sans-serif' not found because none of the following families were found: Arial, Liberation Sans, Bitstream Vera Sans, sans-serif\n",
      "findfont: Generic family 'sans-serif' not found because none of the following families were found: Arial, Liberation Sans, Bitstream Vera Sans, sans-serif\n",
      "findfont: Generic family 'sans-serif' not found because none of the following families were found: Arial, Liberation Sans, Bitstream Vera Sans, sans-serif\n",
      "findfont: Generic family 'sans-serif' not found because none of the following families were found: Arial, Liberation Sans, Bitstream Vera Sans, sans-serif\n",
      "findfont: Generic family 'sans-serif' not found because none of the following families were found: Arial, Liberation Sans, Bitstream Vera Sans, sans-serif\n",
      "findfont: Generic family 'sans-serif' not found because none of the following families were found: Arial, Liberation Sans, Bitstream Vera Sans, sans-serif\n",
      "findfont: Generic family 'sans-serif' not found because none of the following families were found: Arial, Liberation Sans, Bitstream Vera Sans, sans-serif\n",
      "findfont: Generic family 'sans-serif' not found because none of the following families were found: Arial, Liberation Sans, Bitstream Vera Sans, sans-serif\n",
      "findfont: Generic family 'sans-serif' not found because none of the following families were found: Arial, Liberation Sans, Bitstream Vera Sans, sans-serif\n",
      "findfont: Generic family 'sans-serif' not found because none of the following families were found: Arial, Liberation Sans, Bitstream Vera Sans, sans-serif\n",
      "findfont: Generic family 'sans-serif' not found because none of the following families were found: Arial, Liberation Sans, Bitstream Vera Sans, sans-serif\n",
      "findfont: Generic family 'sans-serif' not found because none of the following families were found: Arial, Liberation Sans, Bitstream Vera Sans, sans-serif\n",
      "findfont: Generic family 'sans-serif' not found because none of the following families were found: Arial, Liberation Sans, Bitstream Vera Sans, sans-serif\n",
      "findfont: Generic family 'sans-serif' not found because none of the following families were found: Arial, Liberation Sans, Bitstream Vera Sans, sans-serif\n",
      "findfont: Generic family 'sans-serif' not found because none of the following families were found: Arial, Liberation Sans, Bitstream Vera Sans, sans-serif\n",
      "findfont: Generic family 'sans-serif' not found because none of the following families were found: Arial, Liberation Sans, Bitstream Vera Sans, sans-serif\n",
      "findfont: Generic family 'sans-serif' not found because none of the following families were found: Arial, Liberation Sans, Bitstream Vera Sans, sans-serif\n",
      "findfont: Generic family 'sans-serif' not found because none of the following families were found: Arial, Liberation Sans, Bitstream Vera Sans, sans-serif\n",
      "findfont: Generic family 'sans-serif' not found because none of the following families were found: Arial, Liberation Sans, Bitstream Vera Sans, sans-serif\n",
      "findfont: Generic family 'sans-serif' not found because none of the following families were found: Arial, Liberation Sans, Bitstream Vera Sans, sans-serif\n",
      "findfont: Generic family 'sans-serif' not found because none of the following families were found: Arial, Liberation Sans, Bitstream Vera Sans, sans-serif\n",
      "findfont: Generic family 'sans-serif' not found because none of the following families were found: Arial, Liberation Sans, Bitstream Vera Sans, sans-serif\n",
      "findfont: Generic family 'sans-serif' not found because none of the following families were found: Arial, Liberation Sans, Bitstream Vera Sans, sans-serif\n",
      "findfont: Generic family 'sans-serif' not found because none of the following families were found: Arial, Liberation Sans, Bitstream Vera Sans, sans-serif\n",
      "findfont: Generic family 'sans-serif' not found because none of the following families were found: Arial, Liberation Sans, Bitstream Vera Sans, sans-serif\n",
      "findfont: Generic family 'sans-serif' not found because none of the following families were found: Arial, Liberation Sans, Bitstream Vera Sans, sans-serif\n",
      "findfont: Generic family 'sans-serif' not found because none of the following families were found: Arial, Liberation Sans, Bitstream Vera Sans, sans-serif\n",
      "findfont: Generic family 'sans-serif' not found because none of the following families were found: Arial, Liberation Sans, Bitstream Vera Sans, sans-serif\n",
      "findfont: Generic family 'sans-serif' not found because none of the following families were found: Arial, Liberation Sans, Bitstream Vera Sans, sans-serif\n",
      "findfont: Generic family 'sans-serif' not found because none of the following families were found: Arial, Liberation Sans, Bitstream Vera Sans, sans-serif\n",
      "findfont: Generic family 'sans-serif' not found because none of the following families were found: Arial, Liberation Sans, Bitstream Vera Sans, sans-serif\n",
      "findfont: Generic family 'sans-serif' not found because none of the following families were found: Arial, Liberation Sans, Bitstream Vera Sans, sans-serif\n",
      "findfont: Generic family 'sans-serif' not found because none of the following families were found: Arial, Liberation Sans, Bitstream Vera Sans, sans-serif\n",
      "findfont: Generic family 'sans-serif' not found because none of the following families were found: Arial, Liberation Sans, Bitstream Vera Sans, sans-serif\n",
      "findfont: Generic family 'sans-serif' not found because none of the following families were found: Arial, Liberation Sans, Bitstream Vera Sans, sans-serif\n",
      "findfont: Generic family 'sans-serif' not found because none of the following families were found: Arial, Liberation Sans, Bitstream Vera Sans, sans-serif\n",
      "findfont: Generic family 'sans-serif' not found because none of the following families were found: Arial, Liberation Sans, Bitstream Vera Sans, sans-serif\n",
      "findfont: Generic family 'sans-serif' not found because none of the following families were found: Arial, Liberation Sans, Bitstream Vera Sans, sans-serif\n",
      "findfont: Generic family 'sans-serif' not found because none of the following families were found: Arial, Liberation Sans, Bitstream Vera Sans, sans-serif\n",
      "findfont: Generic family 'sans-serif' not found because none of the following families were found: Arial, Liberation Sans, Bitstream Vera Sans, sans-serif\n",
      "findfont: Generic family 'sans-serif' not found because none of the following families were found: Arial, Liberation Sans, Bitstream Vera Sans, sans-serif\n",
      "findfont: Generic family 'sans-serif' not found because none of the following families were found: Arial, Liberation Sans, Bitstream Vera Sans, sans-serif\n",
      "findfont: Generic family 'sans-serif' not found because none of the following families were found: Arial, Liberation Sans, Bitstream Vera Sans, sans-serif\n",
      "findfont: Generic family 'sans-serif' not found because none of the following families were found: Arial, Liberation Sans, Bitstream Vera Sans, sans-serif\n",
      "findfont: Generic family 'sans-serif' not found because none of the following families were found: Arial, Liberation Sans, Bitstream Vera Sans, sans-serif\n",
      "findfont: Generic family 'sans-serif' not found because none of the following families were found: Arial, Liberation Sans, Bitstream Vera Sans, sans-serif\n",
      "findfont: Generic family 'sans-serif' not found because none of the following families were found: Arial, Liberation Sans, Bitstream Vera Sans, sans-serif\n",
      "findfont: Generic family 'sans-serif' not found because none of the following families were found: Arial, Liberation Sans, Bitstream Vera Sans, sans-serif\n",
      "findfont: Generic family 'sans-serif' not found because none of the following families were found: Arial, Liberation Sans, Bitstream Vera Sans, sans-serif\n",
      "findfont: Generic family 'sans-serif' not found because none of the following families were found: Arial, Liberation Sans, Bitstream Vera Sans, sans-serif\n",
      "findfont: Generic family 'sans-serif' not found because none of the following families were found: Arial, Liberation Sans, Bitstream Vera Sans, sans-serif\n",
      "findfont: Generic family 'sans-serif' not found because none of the following families were found: Arial, Liberation Sans, Bitstream Vera Sans, sans-serif\n",
      "findfont: Generic family 'sans-serif' not found because none of the following families were found: Arial, Liberation Sans, Bitstream Vera Sans, sans-serif\n",
      "findfont: Generic family 'sans-serif' not found because none of the following families were found: Arial, Liberation Sans, Bitstream Vera Sans, sans-serif\n",
      "findfont: Generic family 'sans-serif' not found because none of the following families were found: Arial, Liberation Sans, Bitstream Vera Sans, sans-serif\n",
      "findfont: Generic family 'sans-serif' not found because none of the following families were found: Arial, Liberation Sans, Bitstream Vera Sans, sans-serif\n",
      "findfont: Generic family 'sans-serif' not found because none of the following families were found: Arial, Liberation Sans, Bitstream Vera Sans, sans-serif\n",
      "findfont: Generic family 'sans-serif' not found because none of the following families were found: Arial, Liberation Sans, Bitstream Vera Sans, sans-serif\n",
      "findfont: Generic family 'sans-serif' not found because none of the following families were found: Arial, Liberation Sans, Bitstream Vera Sans, sans-serif\n",
      "findfont: Generic family 'sans-serif' not found because none of the following families were found: Arial, Liberation Sans, Bitstream Vera Sans, sans-serif\n",
      "findfont: Generic family 'sans-serif' not found because none of the following families were found: Arial, Liberation Sans, Bitstream Vera Sans, sans-serif\n",
      "findfont: Generic family 'sans-serif' not found because none of the following families were found: Arial, Liberation Sans, Bitstream Vera Sans, sans-serif\n"
     ]
    },
    {
     "data": {
      "image/png": "[encoded data removed]",
      "text/plain": [
       "<Figure size 800x630 with 2 Axes>"
      ]
     },
     "metadata": {},
     "output_type": "display_data"
    }
   ],
   "source": [
    "shap.summary_plot(shap_values, X_test[:100], feature_names=nomes_das_features, plot_type=\"dot\", color_bar=True, max_display=12)"
   ]
  },
  {
   "cell_type": "code",
   "execution_count": 81,
   "metadata": {},
   "outputs": [
    {
     "name": "stdout",
     "output_type": "stream",
     "text": [
      "(18167, 39)\n",
      "(100, 39)\n"
     ]
    }
   ],
   "source": [
    "print(X_test.shape)  # Deve ter o formato (n_amostras, n_features)\n",
    "print(shap_values.shape)  # Deve ter o formato (n_amostras, n_features)"
   ]
  }
 ],
 "metadata": {
  "kernelspec": {
   "display_name": "ambiente",
   "language": "python",
   "name": "python3"
  },
  "language_info": {
   "codemirror_mode": {
    "name": "ipython",
    "version": 3
   },
   "file_extension": ".py",
   "mimetype": "text/x-python",
   "name": "python",
   "nbconvert_exporter": "python",
   "pygments_lexer": "ipython3",
   "version": "3.12.3"
  }
 },
 "nbformat": 4,
 "nbformat_minor": 2
}
